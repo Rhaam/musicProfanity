{
  "nbformat": 4,
  "nbformat_minor": 0,
  "metadata": {
    "colab": {
      "provenance": []
    },
    "kernelspec": {
      "name": "python3",
      "display_name": "Python 3"
    },
    "language_info": {
      "name": "python"
    }
  },
  "cells": [
    {
      "cell_type": "code",
      "execution_count": null,
      "metadata": {
        "id": "wWRJMhk6y90a"
      },
      "outputs": [],
      "source": [
        "# Mount Google Drive\n",
        "from google.colab import drive\n",
        "drive.mount('/content/drive')"
      ]
    },
    {
      "cell_type": "code",
      "source": [
        "#set paths here YOU WILL NEED TO CHANGE THESE TO WORK ON YOUR SYSTEM\n",
        "BILLBOARD_HOT_100_1946_2022 = '/content/drive/MyDrive/musicProfanity (1)/Billboard_Hot100_Songs_Spotify_1946-2022.csv'\n",
        "PATH_FOR_SAVING_DATA_SET = '/content/drive/MyDrive/musicProfanity (1)/billboard_top_100_1946_2022_lyrics.csv' # 'billboard_top_100_1946_2022_lyrics.csv' this will be the name of the file\n"
      ],
      "metadata": {
        "id": "5vLHGaLkcX7e"
      },
      "execution_count": 2,
      "outputs": []
    },
    {
      "cell_type": "code",
      "source": [
        "#import libraries\n",
        "import requests\n",
        "from bs4 import BeautifulSoup\n",
        "import json\n",
        "import re\n",
        "import pandas as pd\n",
        "import ast\n",
        "import time\n",
        "import random\n",
        "import unicodedata"
      ],
      "metadata": {
        "id": "D3KLsNNLzGrh"
      },
      "execution_count": 3,
      "outputs": []
    },
    {
      "cell_type": "code",
      "source": [
        "#takes artist and song name and returns the url\n",
        "def getURL(artist,song):\n",
        "  artist = artist.replace(\" \", \"-\") #we take the first artist name because it happens to work with the specific site being scraped\n",
        "  song = song.replace(\" \", \"-\")\n",
        "  base = 'https://lyrics.lyricfind.com/lyrics/'\n",
        "  return base + artist + \"-\" + song\n",
        "\n",
        "\n",
        "def remove_accents(input_str):\n",
        "    nfkd_form = unicodedata.normalize('NFKD', input_str)\n",
        "    return ''.join([c for c in nfkd_form if not unicodedata.combining(c)])\n",
        "\n",
        "\n",
        "def remove_special_characters(name):\n",
        "    cleaned_name = name.replace(\"'\", '').replace('’', '').strip()\n",
        "    cleaned_name = re.sub(r'[^a-zA-Z0-9\\s]', ' ', cleaned_name)  # replace other special characters with a space\n",
        "    cleaned_name = re.sub(r'\\s+', ' ', cleaned_name)  # replace multiple spaces with just one\n",
        "    return cleaned_name.strip().lower() #JAN 19TH ADDED STRIP\n",
        "\n",
        "\n",
        "def remove_unnecessary_song_info(song_name):\n",
        "    if \" - \" in song_name:\n",
        "        return song_name.split(\" - \")[0]  # Remove everything after \" - \"\n",
        "    elif \" featuring \" in song_name:\n",
        "        return song_name.split(\" featuring \")[0]  # Remove everything after \" featuring \"\n",
        "    elif \" remix \" in song_name:\n",
        "        return song_name.split(\" remix \")[0] #remove everything after \"remix\"\n",
        "    elif \"[]\" in song_name or \"]\" in song_name:\n",
        "        return re.sub(r'\\[[^\\]]*\\]', '', song_name) #remove square brackets and contents\n",
        "    else:\n",
        "        return song_name.strip().lower()  # Keep the original name if the patterns are not found''' #JAN 19TH ADDED STRIP AND LOWER"
      ],
      "metadata": {
        "id": "PpnvdjW22Ung"
      },
      "execution_count": null,
      "outputs": []
    },
    {
      "cell_type": "markdown",
      "source": [
        "Load billboard csv and save as pandas dataframe called df"
      ],
      "metadata": {
        "id": "v_g_LeSU5IX7"
      }
    },
    {
      "cell_type": "code",
      "source": [
        "file_path = BILLBOARD_HOT_100_1946_2022\n",
        "df = pd.read_csv(file_path)\n",
        "\n",
        "#get lyrics dataframe removing extra spotify information\n",
        "lyrics_df=df.loc[:, ['Song', 'Artist Names', 'Hot100 Ranking Year', 'Hot100 Rank']]\n",
        "\n",
        "#Add a column to add the lyrics and fill cells with None\n",
        "lyrics_df['Lyrics'] = None\n",
        "\n",
        "#make strings of artist names that look like lists into actual lists\n",
        "lyrics_df['Artist Names'] = lyrics_df['Artist Names'].apply(ast.literal_eval)\n",
        "\n",
        "#get just songs and artist names\n",
        "artists = lyrics_df['Artist Names']\n",
        "\n",
        "#remove special characters from artists are replace letters with accents and other symbols with regular letters\n",
        "for inner_list in artists:\n",
        "    for i in range(len(inner_list)):\n",
        "        inner_list[i] = remove_accents(inner_list[i])\n",
        "        inner_list[i] = inner_list[i].replace('$', 's') #A$AP -> asap\n",
        "        inner_list[i] = inner_list[i].replace('!', 'i') #p!nk -> pink\n",
        "        inner_list[i] = remove_special_characters(inner_list[i])\n",
        "        inner_list[i] = inner_list[i].replace(\" and \", \" \")# need space before and after to prevent removing first part of a name like andrew"
      ],
      "metadata": {
        "id": "Pz1EZAVo4_jh"
      },
      "execution_count": null,
      "outputs": []
    },
    {
      "cell_type": "code",
      "source": [
        "songs = lyrics_df['Song']\n",
        "\n",
        "# Use list comprehension to process the song list and remove certain sequences of character and everything after the sequence\n",
        "processed_songs = [remove_unnecessary_song_info(song) for song in songs] #song_list]\n",
        "\n",
        "processed_songs = [remove_accents(song) for song in processed_songs] #song_list]\n"
      ],
      "metadata": {
        "id": "T-kEssuW7Gw3"
      },
      "execution_count": null,
      "outputs": []
    },
    {
      "cell_type": "markdown",
      "source": [
        "The code below gets the songs it take about 1h30 to try and get lyrics for nearly 7000 songs"
      ],
      "metadata": {
        "id": "UdWwnWIKvXl1"
      }
    },
    {
      "cell_type": "code",
      "source": [
        "stop_searching_song = None\n",
        "\n",
        "for i in lyrics_df[pd.isna(lyrics_df['Lyrics'])].index:#(len(df)):\n",
        "  stop_searching_song = False\n",
        "  print(i)#this will print out the song index only so the user can see progress\n",
        "\n",
        "  song_title = processed_songs[i]\n",
        "\n",
        "\n",
        "  for artist in artists.iloc[i]:\n",
        "    if stop_searching_song == True:\n",
        "      break\n",
        "\n",
        "    elif \"(\" in song_title or \")\" in song_title:\n",
        "      #remove everything in brackets\n",
        "      song_title_no_brackets_contents = re.sub(r'\\s+', ' ', re.sub(r'\\((.*?)\\)', '', song_title)).strip()\n",
        "      #remove only brackets\n",
        "      song_title_no_brackets = re.sub(r'\\s+', ' ', re.sub(r'\\((.*?)\\)', r'\\1', song_title)).strip()\n",
        "      #if there are multiple brackets keep the first only\n",
        "      song_title_first_brackets_only = re.sub(r'\\(.*?\\)', '', re.sub(r'\\((.*?)\\)', r'(\\1)', song_title, 1)).strip()\n",
        "      #if there are multiple brackets keep the last only\n",
        "      song_title_last_brackets_only = re.sub(r'\\(.*?\\)', '', re.sub(r'^(.*)\\((.*?)\\)', r'\\1(\\2)', song_title)).strip()\n",
        "      # Move the contents within brackets to the end of the string\n",
        "      match = re.search(r'\\((.*?)\\)', song_title)\n",
        "      if match:\n",
        "        contents_within_brackets = match.group(1)\n",
        "        song_title_brackets_moved = re.sub(r'\\(.*?\\)', '', song_title).strip() + ' ' + contents_within_brackets\n",
        "\n",
        "        title_versions = [song_title_no_brackets_contents,\n",
        "                            song_title_no_brackets,\n",
        "                            song_title_first_brackets_only,\n",
        "                            song_title_last_brackets_only,\n",
        "                            song_title_brackets_moved]\n",
        "\n",
        "        for title in title_versions:\n",
        "          title = remove_special_characters(title) #do this here so that the brackets can be used for if else\n",
        "          url = getURL(artist,title)\n",
        "          page = requests.get(url)\n",
        "\n",
        "          soup = BeautifulSoup(page.content, \"html.parser\") # Your HTML content containing the script tag\n",
        "          script_tag = soup.find('script', id='__NEXT_DATA__')# Find the script tag with the specified id\n",
        "          json_data = json.loads(script_tag.string)#get the data in json format\n",
        "          responseCode = json_data['props']['pageProps']['songData']['response']['code']#response to check if successful or not\n",
        "\n",
        "          if responseCode == 101:\n",
        "            stop_searching_song = True\n",
        "            lyrics = re.sub(r'[^a-zA-Z0-9\\s]', '', json_data['props']['pageProps']['songData']['track']['lyrics'])\n",
        "            lyrics = lyrics.lower().split()  # Convert the entire string to lowercase, then split into a list of words\n",
        "            lyrics_df['Lyrics'][i] = lyrics\n",
        "            break\n",
        "\n",
        "\n",
        "    else:\n",
        "      song_title=remove_special_characters(song_title) #do this here so that the brackets can be used for if else\n",
        "      url = getURL(artist,song_title)\n",
        "      page = requests.get(url)\n",
        "\n",
        "      soup = BeautifulSoup(page.content, \"html.parser\") # Your HTML content containing the script tag\n",
        "      script_tag = soup.find('script', id='__NEXT_DATA__')# Find the script tag with the specified id\n",
        "      json_data = json.loads(script_tag.string)#get the data in json format\n",
        "      responseCode = json_data['props']['pageProps']['songData']['response']['code']#response to check if successful or not\n",
        "\n",
        "      if responseCode == 101:\n",
        "        stop_searching_song = True\n",
        "        lyrics = re.sub(r'[^a-zA-Z0-9\\s]', '', json_data['props']['pageProps']['songData']['track']['lyrics'])\n",
        "        lyrics = lyrics.lower().split()  # Convert the entire string to lowercase, then split into a list of words\n",
        "        lyrics_df['Lyrics'][i] = lyrics\n",
        "        break\n",
        "\n"
      ],
      "metadata": {
        "id": "n_xfk8_M80a1"
      },
      "execution_count": null,
      "outputs": []
    },
    {
      "cell_type": "code",
      "source": [
        "#save the dataset as billboard_top_100_1946_2022_lyrics.csv\n",
        "lyrics_df.to_csv(PATH_FOR_SAVING_DATA_SET, index=False)\n"
      ],
      "metadata": {
        "id": "nhyrigYK_EYC"
      },
      "execution_count": null,
      "outputs": []
    },
    {
      "cell_type": "code",
      "source": [
        "print('total songs in dataset: ',len(lyrics_df))\n",
        "print('Percent songs obtained: ',(100-((len(lyrics_df[pd.isna(lyrics_df['Lyrics'])].index)/len(lyrics_df)*100))),\"%\")\n",
        "print('number of songs obtained: ',len(lyrics_df)-len(lyrics_df[pd.isna(lyrics_df['Lyrics'])].index))\n",
        "print('Percent songs missed: ',((len(lyrics_df[pd.isna(lyrics_df['Lyrics'])].index)/len(lyrics_df)*100)),\"%\")\n",
        "print('number of songs missed: ',len(lyrics_df[pd.isna(lyrics_df['Lyrics'])].index))"
      ],
      "metadata": {
        "id": "oopJQuqQ_3Wc"
      },
      "execution_count": null,
      "outputs": []
    }
  ]
}